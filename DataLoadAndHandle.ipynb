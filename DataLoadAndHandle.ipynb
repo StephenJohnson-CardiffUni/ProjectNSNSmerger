{
  "nbformat": 4,
  "nbformat_minor": 0,
  "metadata": {
    "colab": {
      "provenance": [],
      "authorship_tag": "ABX9TyPhyUTZirxp1NPrJSsR28eK",
      "include_colab_link": true
    },
    "kernelspec": {
      "name": "python3",
      "display_name": "Python 3"
    },
    "language_info": {
      "name": "python"
    }
  },
  "cells": [
    {
      "cell_type": "markdown",
      "metadata": {
        "id": "view-in-github",
        "colab_type": "text"
      },
      "source": [
        "<a href=\"https://colab.research.google.com/github/StephenJohnson-CardiffUni/ProjectNSNSmerger/blob/main/DataLoadAndHandle.ipynb\" target=\"_parent\"><img src=\"https://colab.research.google.com/assets/colab-badge.svg\" alt=\"Open In Colab\"/></a>"
      ]
    },
    {
      "cell_type": "markdown",
      "source": [
        "JINA Fe/H data from Asplund 2009\n",
        "\n",
        "\"Throughout this review, we adopt the customary astronomical scale for logarithmic abundances where hydrogen is defined to be log (H) = 12.00, i.e. log(X) = log(NX/NH) + 12, where NX and NH are the number\n",
        "densities of element X and hydrogen, respectively.\""
      ],
      "metadata": {
        "id": "opW8dlv0OMCK"
      }
    },
    {
      "cell_type": "code",
      "source": [
        "def JINAtxtRead(data):\n",
        "  data = []\n",
        "\n",
        "  with open(data, 'r') as file:\n",
        "      for idx, line in enumerate(file):\n",
        "          # Skip the second row (index 1)\n",
        "          if idx == 1:\n",
        "              continue\n",
        "          row = line.strip().split()\n",
        "          data.append(row)\n",
        "          return data\n"
      ],
      "metadata": {
        "id": "Olx76MZ-5iMt"
      },
      "execution_count": null,
      "outputs": []
    },
    {
      "cell_type": "markdown",
      "source": [],
      "metadata": {
        "id": "wzmSfN_oWMkD"
      }
    }
  ]
}